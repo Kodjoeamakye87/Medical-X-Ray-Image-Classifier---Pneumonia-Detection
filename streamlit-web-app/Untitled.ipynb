{
 "cells": [
  {
   "cell_type": "code",
   "execution_count": 5,
   "id": "93fb9ecf-46a1-4aab-a4fa-189dcca1c04e",
   "metadata": {},
   "outputs": [
    {
     "name": "stderr",
     "output_type": "stream",
     "text": [
      "2025-02-23 22:31:54.608 \n",
      "  \u001b[33m\u001b[1mWarning:\u001b[0m to view this Streamlit app on a browser, run it with the following\n",
      "  command:\n",
      "\n",
      "    streamlit run C:\\ProgramData\\anaconda3\\Lib\\site-packages\\ipykernel_launcher.py [ARGUMENTS]\n"
     ]
    }
   ],
   "source": [
    "import streamlit as st\n",
    "import tensorflow as tf\n",
    "import numpy as np\n",
    "import cv2\n",
    "\n",
    "# ---------------------------------------------------------\n",
    "# Load TensorFlow Lite Model\n",
    "# ---------------------------------------------------------\n",
    "MODEL_PATH = r\"C:\\Users\\henry\\Desktop\\Personal\\Training\\Project\\Personal-Project-on-X-Ray-Image-Classifier-Pneumonia-Detection\\Medical-X-Ray-Image-Classifier---Pneumonia-Detection\\notebook\\tuned_resnet50_model.tflite\"\n",
    "\n",
    "# Initialize TensorFlow Lite interpreter\n",
    "interpreter = tf.lite.Interpreter(model_path=MODEL_PATH)\n",
    "interpreter.allocate_tensors()\n",
    "\n",
    "# Get input and output details\n",
    "input_details = interpreter.get_input_details()\n",
    "output_details = interpreter.get_output_details()\n",
    "\n",
    "# Class labels for binary classification\n",
    "class_labels = [\"Normal\", \"Pneumonia\"]\n",
    "\n",
    "# ---------------------------------------------------------\n",
    "# Preprocessing Function\n",
    "# ---------------------------------------------------------\n",
    "def preprocess_image(img):\n",
    "    \"\"\"\n",
    "    1. Resize the image to match model input.\n",
    "    2. Normalize pixel values to [0, 1].\n",
    "    3. Expand dimensions to fit model input shape.\n",
    "    \"\"\"\n",
    "    img = cv2.resize(img, (input_details[0]['shape'][1], input_details[0]['shape'][2]))\n",
    "    img = img.astype(\"float32\") / 255.0\n",
    "    return np.expand_dims(img, axis=0)\n",
    "\n",
    "# ---------------------------------------------------------\n",
    "# Prediction Function\n",
    "# ---------------------------------------------------------\n",
    "def make_prediction(img):\n",
    "    \"\"\"\n",
    "    1. Preprocess the image.\n",
    "    2. Run inference with TensorFlow Lite.\n",
    "    3. Return predicted label and confidence score.\n",
    "    \"\"\"\n",
    "    x = preprocess_image(img)\n",
    "    interpreter.set_tensor(input_details[0]['index'], x)\n",
    "    interpreter.invoke()\n",
    "    pred = interpreter.get_tensor(output_details[0]['index'])[0][0]  # Single scalar output\n",
    "    confidence = float(pred) if pred > 0.5 else float(1 - pred)\n",
    "    label = class_labels[int(pred > 0.5)]\n",
    "    return label, confidence\n",
    "\n",
    "# ---------------------------------------------------------\n",
    "# Streamlit App\n",
    "# ---------------------------------------------------------\n",
    "st.title(\"Pneumonia Detector (TensorFlow Lite)\")\n",
    "st.write(\"Upload a chest X-ray image to detect Pneumonia.\")\n",
    "\n",
    "# Upload an X-ray image\n",
    "uploaded_file = st.file_uploader(\"Upload a chest X-ray\", type=[\"jpg\", \"png\", \"jpeg\"])\n",
    "\n",
    "if uploaded_file is not None:\n",
    "    # Convert uploaded file into a NumPy array\n",
    "    file_bytes = np.asarray(bytearray(uploaded_file.read()), dtype=np.uint8)\n",
    "    img_bgr = cv2.imdecode(file_bytes, cv2.IMREAD_COLOR)  # Load image in BGR format\n",
    "    img_rgb = cv2.cvtColor(img_bgr, cv2.COLOR_BGR2RGB)    # Convert to RGB\n",
    "\n",
    "    # Display the uploaded image\n",
    "    st.image(img_rgb, caption=\"Uploaded X-ray Image\", use_container_width=True)\n",
    "\n",
    "    # 1) Make a prediction\n",
    "    label, confidence = make_prediction(img_rgb)\n",
    "\n",
    "    # 2) Display the result\n",
    "    st.write(f\"### Prediction: {label} ({confidence * 100:.2f}%)\")\n"
   ]
  },
  {
   "cell_type": "code",
   "execution_count": null,
   "id": "a2b701b0-9b9a-4bfc-8c74-45272723ec84",
   "metadata": {},
   "outputs": [],
   "source": []
  }
 ],
 "metadata": {
  "kernelspec": {
   "display_name": "Python 3 (ipykernel)",
   "language": "python",
   "name": "python3"
  },
  "language_info": {
   "codemirror_mode": {
    "name": "ipython",
    "version": 3
   },
   "file_extension": ".py",
   "mimetype": "text/x-python",
   "name": "python",
   "nbconvert_exporter": "python",
   "pygments_lexer": "ipython3",
   "version": "3.12.7"
  }
 },
 "nbformat": 4,
 "nbformat_minor": 5
}
